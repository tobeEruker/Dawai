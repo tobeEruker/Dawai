{
 "cells": [
  {
   "cell_type": "code",
   "execution_count": 1,
   "id": "f30ce6be",
   "metadata": {},
   "outputs": [
    {
     "ename": "ModuleNotFoundError",
     "evalue": "No module named 'keras'",
     "output_type": "error",
     "traceback": [
      "\u001b[1;31m---------------------------------------------------------------------------\u001b[0m",
      "\u001b[1;31mModuleNotFoundError\u001b[0m                       Traceback (most recent call last)",
      "\u001b[1;32m<ipython-input-1-d574aac6e036>\u001b[0m in \u001b[0;36m<module>\u001b[1;34m\u001b[0m\n\u001b[1;32m----> 1\u001b[1;33m \u001b[1;32mfrom\u001b[0m \u001b[0mkeras\u001b[0m\u001b[1;33m.\u001b[0m\u001b[0mpreprocessing\u001b[0m\u001b[1;33m.\u001b[0m\u001b[0mimage\u001b[0m \u001b[1;32mimport\u001b[0m \u001b[0mimg_to_array\u001b[0m\u001b[1;33m,\u001b[0m\u001b[0mload_img\u001b[0m\u001b[1;33m\u001b[0m\u001b[1;33m\u001b[0m\u001b[0m\n\u001b[0m\u001b[0;32m      2\u001b[0m \u001b[1;32mfrom\u001b[0m \u001b[0mkeras\u001b[0m\u001b[1;33m.\u001b[0m\u001b[0mapplications\u001b[0m\u001b[1;33m.\u001b[0m\u001b[0mvgg16\u001b[0m \u001b[1;32mimport\u001b[0m \u001b[0mVGG16\u001b[0m\u001b[1;33m,\u001b[0m\u001b[0mpreprocess_input\u001b[0m\u001b[1;33m\u001b[0m\u001b[1;33m\u001b[0m\u001b[0m\n\u001b[0;32m      3\u001b[0m \u001b[1;32mimport\u001b[0m \u001b[0mnumpy\u001b[0m \u001b[1;32mas\u001b[0m \u001b[0mnp\u001b[0m\u001b[1;33m\u001b[0m\u001b[1;33m\u001b[0m\u001b[0m\n\u001b[0;32m      4\u001b[0m \u001b[1;33m\u001b[0m\u001b[0m\n\u001b[0;32m      5\u001b[0m \u001b[0mmodel_vgg\u001b[0m \u001b[1;33m=\u001b[0m \u001b[0mVGG16\u001b[0m\u001b[1;33m(\u001b[0m\u001b[0mweights\u001b[0m\u001b[1;33m=\u001b[0m\u001b[1;34m'imagenet'\u001b[0m\u001b[1;33m,\u001b[0m\u001b[0minclude_top\u001b[0m\u001b[1;33m=\u001b[0m\u001b[1;32mFalse\u001b[0m\u001b[1;33m)\u001b[0m\u001b[1;33m\u001b[0m\u001b[1;33m\u001b[0m\u001b[0m\n",
      "\u001b[1;31mModuleNotFoundError\u001b[0m: No module named 'keras'"
     ]
    }
   ],
   "source": [
    "from keras.preprocessing.image import img_to_array,load_img\n",
    "from keras.applications.vgg16 import VGG16,preprocess_input\n",
    "import numpy as np\n",
    "\n",
    "model_vgg = VGG16(weights='imagenet',include_top=False)\n",
    "# 定义函数 载入和处理图片\n",
    "def modelProcess(img_path,model):\n",
    "    img = load_img(img_path,target_size=(224,224))\n",
    "    img = img_to_array(img)\n",
    "    x = np.expand_dims(img,axis=0)\n",
    "    x = preprocess_input(x)\n",
    "    x_vgg = model.predict(x)\n",
    "    x_vgg = x_vgg.reshape(1,7*7*512)\n",
    "    return x_vgg\n",
    "\n",
    "# 列出训练集的文件名\n",
    "import os \n",
    "folder = 'Vegetable Images/validation/Bean'\n",
    "dirs = os.listdir(folder)\n",
    "\n",
    "# 生成图像的路径\n",
    "img_path = []\n",
    "for i in dirs:\n",
    "    if os.path.splitext(i)[1] == '.jpg':\n",
    "        img_path.append(i)\n",
    "img_path = [folder + '//' + i for i in img_path]\n",
    "\n",
    "# 图像预处理\n",
    "features1 = np.zeros([len(img_path),25088])\n",
    "for i in range(len(img_path)):\n",
    "    feature_i = modelProcess(img_path[i],model_vgg)\n",
    "    print('preprocessed:',img_path[i])\n",
    "    features1[i] = feature_i\n",
    "\n",
    "folder ='Vegetable Images/validation/Bitter_Gourd'\n",
    "dirs = os.listdir(folder)\n",
    "img_path = []\n",
    "for i in dirs:\n",
    "    if os.path.splitext(i)[1] == '.jpg':\n",
    "        img_path.append(i)\n",
    "img_path = [folder + '//' + i for i in img_path]\n",
    "features2 = np.zeros([len(img_path),25088])\n",
    "for i in range(len(img_path)):\n",
    "    feature_i = modelProcess(img_path[i],model_vgg)\n",
    "    print('preprocessed:',img_path[i])\n",
    "    features2[i] = feature_i\n",
    "\n",
    "# 贴标签\n",
    "print(features1.shape,features2.shape)\n",
    "y1 = np.zeros(300)\n",
    "y2 = np.ones(300)\n",
    "\n",
    "# 生成训练数据\n",
    "X = np.concatenate((features1,features2),axis=0)\n",
    "y = np.concatenate((y1,y2),axis=0)\n",
    "y = y.reshape(-1,1)\n",
    "print(X.shape,y.shape)"
   ]
  },
  {
   "cell_type": "code",
   "execution_count": null,
   "id": "30391336",
   "metadata": {},
   "outputs": [],
   "source": [
    "#分割训练集和测试集数据\n",
    "from sklearn.model_selection import train_test_split\n",
    "x_train,x_test,y_train,y_test = train_test_split(X,y,test_size=0.3,random_state=5)\n",
    "print(x_train.shape,x_test.shape,X.shape)"
   ]
  },
  {
   "cell_type": "code",
   "execution_count": null,
   "id": "79eb2b2b",
   "metadata": {},
   "outputs": [],
   "source": [
    "from keras.models import Sequential\n",
    "from keras.layers import Dense  #Conv2D卷积层 #MaxPooling2D池化层\n",
    "mlp = Sequential()\n",
    "mlp.add(Dense(units=128,activation='relu'))# units=128: 神经元的数量（128维）。# activation='relu': 使用 ReLU 激活函数。\n",
    "mlp.add(Dense(units=1,activation='sigmoid'))# activation='sigmoid': 使用 Sigmoid 函数，将输出压缩到 [0,1]，表示概率\n"
   ]
  },
  {
   "cell_type": "code",
   "execution_count": null,
   "id": "695b37ae",
   "metadata": {},
   "outputs": [],
   "source": [
    "#配置模型参数\n",
    "mlp.compile(loss='binary_crossentropy',optimizer='adam',metrics=['accuracy'])"
   ]
  },
  {
   "cell_type": "code",
   "execution_count": null,
   "id": "3724cb3f",
   "metadata": {},
   "outputs": [],
   "source": [
    "#训练50轮\n",
    "mlp.fit(x_train,y_train,epochs=25)"
   ]
  },
  {
   "cell_type": "code",
   "execution_count": null,
   "id": "1a4c6eaa",
   "metadata": {},
   "outputs": [],
   "source": [
    "import matplotlib.pyplot as plt\n",
    "# 设置中文字体和字号\n",
    "font2 = {'family': 'SimHei', 'weight': 'normal', 'size': 20}\n",
    "plt.rcParams['font.family'] = 'SimHei'          # 指定默认字体为黑体\n",
    "plt.rcParams['axes.unicode_minus'] = False      # 解决负号显示为方框的问题\n",
    "from keras.preprocessing.image import load_img,img_to_array\n",
    "a = [i for i in range(1,10)]\n",
    "fig = plt.figure(figsize=(10,10))\n",
    "for i in a:\n",
    "    img_name = str(i)+'.jpg'\n",
    "    img_ori = load_img(img_name,target_size=(224,224))\n",
    "    img = img_to_array(img_ori)\n",
    "    x=np.expand_dims(img,axis=0)\n",
    "    x=preprocess_input(x)\n",
    "    features=model_vgg.predict(x)\n",
    "    features=features.reshape(1,7*7*512)\n",
    "    result = (mlp.predict(features)>0.5).astype('int32')\n",
    "    img_ori = load_img(img_name,target_size=(250,250)) \n",
    "    plt.subplot(3,3,i)\n",
    "    plt.imshow(img_ori)\n",
    "    plt.title('检测为:小狗' if result[0][0]==1 else '检测为：小猫' )\n",
    "plt.show()"
   ]
  }
 ],
 "metadata": {
  "kernelspec": {
   "display_name": "Python 3",
   "language": "python",
   "name": "python3"
  },
  "language_info": {
   "codemirror_mode": {
    "name": "ipython",
    "version": 3
   },
   "file_extension": ".py",
   "mimetype": "text/x-python",
   "name": "python",
   "nbconvert_exporter": "python",
   "pygments_lexer": "ipython3",
   "version": "3.8.8"
  }
 },
 "nbformat": 4,
 "nbformat_minor": 5
}

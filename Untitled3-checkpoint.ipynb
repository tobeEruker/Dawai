{
 "cells": [
  {
   "cell_type": "code",
   "execution_count": 1,
   "id": "ff99be5c",
   "metadata": {},
   "outputs": [
    {
     "name": "stdout",
     "output_type": "stream",
     "text": [
      "Requirement already satisfied: jupyterlab-language-pack-zh-CN in d:\\anaconda\\lib\\site-packages (4.3.post3)\n",
      "Note: you may need to restart the kernel to use updated packages.\n"
     ]
    }
   ],
   "source": [
    "pip install jupyterlab-language-pack-zh-CN\n"
   ]
  },
  {
   "cell_type": "code",
   "execution_count": 4,
   "id": "7b436d76",
   "metadata": {},
   "outputs": [
    {
     "name": "stdout",
     "output_type": "stream",
     "text": [
      "(200, 25088)\n"
     ]
    }
   ],
   "source": [
    "import numpy as np\n",
    "import os \n",
    "folder = 'Vegetable Images/validation/Bean'\n",
    "dirs = os.listdir(folder)                 # 列出该路径下的所有文件和子目录名称\n",
    "\n",
    "# 生成图像的路径\n",
    "img_path = []\n",
    "for i in dirs:\n",
    "    if os.path.splitext(i)[1] == '.jpg':\n",
    "        img_path.append(i)\n",
    "        \n",
    "img_path = [folder + '//' + i for i in img_path]\n",
    "features1 = np.zeros([len(img_path),25088])\n",
    "print(features1.shape)"
   ]
  },
  {
   "cell_type": "code",
   "execution_count": null,
   "id": "d325f0be",
   "metadata": {},
   "outputs": [],
   "source": []
  }
 ],
 "metadata": {
  "kernelspec": {
   "display_name": "Python 3",
   "language": "python",
   "name": "python3"
  },
  "language_info": {
   "codemirror_mode": {
    "name": "ipython",
    "version": 3
   },
   "file_extension": ".py",
   "mimetype": "text/x-python",
   "name": "python",
   "nbconvert_exporter": "python",
   "pygments_lexer": "ipython3",
   "version": "3.8.8"
  }
 },
 "nbformat": 4,
 "nbformat_minor": 5
}
